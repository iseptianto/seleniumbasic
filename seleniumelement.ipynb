{
 "cells": [
  {
   "cell_type": "code",
   "execution_count": null,
   "id": "4efe6157-4bbc-41a8-bbb7-a236bd91b4eb",
   "metadata": {},
   "outputs": [
    {
     "name": "stdout",
     "output_type": "stream",
     "text": [
      "Blog Post\n",
      "About Me\n"
     ]
    }
   ],
   "source": [
    "from selenium import webdriver\n",
    "import time\n",
    "import os\n",
    "from selenium.webdriver.common.by import By\n",
    "from selenium.webdriver.support.ui import WebDriverWait\n",
    "from selenium.webdriver.support import expected_conditions as EC\n",
    "\n",
    "driver = webdriver.Firefox()\n",
    "url = 'file:///' + os.getcwd() + '/element.html'  # Added extra slash\n",
    "driver.get(url)\n",
    "\n",
    "# Wait until element with id 'title1' is present and then get its text\n",
    "title1 = WebDriverWait(driver, 10).until(\n",
    "    EC.presence_of_element_located((By.ID, \"title1\"))\n",
    ").text\n",
    "print(title1)\n",
    "\n",
    "# Wait until element with id 'profile' is present and then get its text\n",
    "linkText = WebDriverWait(driver, 10).until(\n",
    "    EC.presence_of_element_located((By.ID, \"profile\"))\n",
    ").text\n",
    "print(linkText)\n",
    "\n",
    "# Close browser\n",
    "time.sleep(5)\n",
    "driver.quit()\n"
   ]
  },
  {
   "cell_type": "code",
   "execution_count": null,
   "id": "efcd4453-c1b0-4e5f-8c1b-3f03a80b7c69",
   "metadata": {},
   "outputs": [],
   "source": []
  }
 ],
 "metadata": {
  "kernelspec": {
   "display_name": "Python 3 (ipykernel)",
   "language": "python",
   "name": "python3"
  },
  "language_info": {
   "codemirror_mode": {
    "name": "ipython",
    "version": 3
   },
   "file_extension": ".py",
   "mimetype": "text/x-python",
   "name": "python",
   "nbconvert_exporter": "python",
   "pygments_lexer": "ipython3",
   "version": "3.12.7"
  }
 },
 "nbformat": 4,
 "nbformat_minor": 5
}
