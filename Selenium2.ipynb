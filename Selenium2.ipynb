{
 "cells": [
  {
   "cell_type": "markdown",
   "id": "e510b0dc-c2ab-46bd-a126-8618a3635eaa",
   "metadata": {},
   "source": [
    "#Project "
   ]
  },
  {
   "cell_type": "code",
   "execution_count": 2,
   "id": "4e302251-1e94-487e-95cf-4b526c308788",
   "metadata": {},
   "outputs": [
    {
     "name": "stdout",
     "output_type": "stream",
     "text": [
      "Welcome to Python.org\n",
      "Newest Questions - Stack Overflow\n",
      "PyPy\n"
     ]
    }
   ],
   "source": [
    "from selenium import webdriver\n",
    "import time\n",
    "\n",
    "driver = webdriver.Firefox()\n",
    "web = ['https://python.org', 'https://stackoverflow.com', 'https://pypy.org']\n",
    "\n",
    "for w in web:\n",
    "    driver.get(w)\n",
    "    print(driver.title)\n",
    "    time.sleep(1)\n",
    "\n",
    "driver.quit()\n"
   ]
  },
  {
   "cell_type": "markdown",
   "id": "ed116ade-d4ca-4ed0-b2a2-0f60d170a53e",
   "metadata": {},
   "source": [
    "#Project 2"
   ]
  },
  {
   "cell_type": "code",
   "execution_count": 4,
   "id": "a21150d3-82c8-41ab-a887-5679d5d7b923",
   "metadata": {},
   "outputs": [],
   "source": [
    "from selenium import webdriver\n",
    "import time\n",
    "\n",
    "driver = webdriver.Firefox()\n",
    "\n",
    "driver.get('https://pypy.org')\n",
    "driver.get_screenshot_as_file('shot.png')\n",
    "time.sleep(1)\n",
    "\n",
    "driver.quit()"
   ]
  },
  {
   "cell_type": "markdown",
   "id": "83ac5910-96f1-4195-82ac-406155bc522f",
   "metadata": {},
   "source": [
    "#Project 3"
   ]
  },
  {
   "cell_type": "code",
   "execution_count": 9,
   "id": "891b77d2-e99a-4d83-a9e2-46a4dd6733b8",
   "metadata": {},
   "outputs": [
    {
     "name": "stderr",
     "output_type": "stream",
     "text": [
      "C:\\Users\\INDRA SEPTIANTO\\AppData\\Local\\Temp\\ipykernel_13820\\635220798.py:11: UserWarning: name used for saved screenshot does not match file type. It should end with a `.png` extension\n",
      "  driver.get_screenshot_as_file('shot' + str(i) + '.jpg')\n"
     ]
    }
   ],
   "source": [
    "from selenium import webdriver\n",
    "import time\n",
    "\n",
    "driver = webdriver.Firefox()\n",
    "\n",
    "web = [ 'https://python.org', 'https://stackoverflow.com', 'https://pypy.org']\n",
    "\n",
    "try:\n",
    "    for i in range(len(web)):\n",
    "        driver.get(web[i])\n",
    "        driver.get_screenshot_as_file('shot' + str(i) + '.jpg')\n",
    "        time.sleep(1)  # Ubah 'l' menjadi angka '1'\n",
    "\n",
    "except Exception as e:\n",
    "    print(f\"An error occurred: {e}\")\n",
    "\n",
    "finally:\n",
    "    driver.quit()\n"
   ]
  },
  {
   "cell_type": "code",
   "execution_count": null,
   "id": "8a376398-ef70-43eb-aa37-7d0fd4aea047",
   "metadata": {},
   "outputs": [],
   "source": []
  },
  {
   "cell_type": "code",
   "execution_count": null,
   "id": "b13c0e22-d8ff-42cb-9e2a-5c8d721b6e6b",
   "metadata": {},
   "outputs": [],
   "source": []
  }
 ],
 "metadata": {
  "kernelspec": {
   "display_name": "Python 3 (ipykernel)",
   "language": "python",
   "name": "python3"
  },
  "language_info": {
   "codemirror_mode": {
    "name": "ipython",
    "version": 3
   },
   "file_extension": ".py",
   "mimetype": "text/x-python",
   "name": "python",
   "nbconvert_exporter": "python",
   "pygments_lexer": "ipython3",
   "version": "3.12.7"
  }
 },
 "nbformat": 4,
 "nbformat_minor": 5
}
