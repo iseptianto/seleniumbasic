{
 "cells": [
  {
   "cell_type": "code",
   "execution_count": 10,
   "id": "d4902d1f-8ba7-4cbd-9a2d-d0ccbdba1b7d",
   "metadata": {},
   "outputs": [],
   "source": [
    "from selenium import webdriver\n",
    "import time\n",
    "import os\n",
    "from selenium.webdriver.common.by import By\n",
    "from selenium.webdriver.support.ui import WebDriverWait\n",
    "from selenium.webdriver.support import expected_conditions as EC\n",
    "\n",
    "#start webdriver and load website from disk\n",
    "driver = webdriver.Firefox()\n",
    "url = 'file://' + os.getcwd() + '//button.html'\n",
    "driver.get(url)\n",
    "time.sleep(1)\n",
    "\n",
    "#click button\n",
    "python_button = WebDriverWait(driver, 10).until(\n",
    "    EC.element_to_be_clickable((By.XPATH, \"//button[contains(text(),'Click Me!')]\"))\n",
    ")\n",
    "python_button.click()\n",
    "\n",
    "#close button\n",
    "time.sleep(1)\n",
    "alert = WebDriverWait(driver, 10).until(EC.alert_is_present())\n",
    "alert.accept()\n",
    "\n",
    "time.sleep(5)\n",
    "driver.quit()\n"
   ]
  },
  {
   "cell_type": "code",
   "execution_count": null,
   "id": "6fa909c2-dc7c-42a2-ada0-907c0a341f1e",
   "metadata": {},
   "outputs": [],
   "source": []
  },
  {
   "cell_type": "code",
   "execution_count": null,
   "id": "d587fc24-9d7c-41ad-91c9-2036f22eca1b",
   "metadata": {},
   "outputs": [],
   "source": []
  }
 ],
 "metadata": {
  "kernelspec": {
   "display_name": "Python 3 (ipykernel)",
   "language": "python",
   "name": "python3"
  },
  "language_info": {
   "codemirror_mode": {
    "name": "ipython",
    "version": 3
   },
   "file_extension": ".py",
   "mimetype": "text/x-python",
   "name": "python",
   "nbconvert_exporter": "python",
   "pygments_lexer": "ipython3",
   "version": "3.12.7"
  }
 },
 "nbformat": 4,
 "nbformat_minor": 5
}
