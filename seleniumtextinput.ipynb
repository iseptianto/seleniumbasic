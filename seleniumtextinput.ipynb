{
 "cells": [
  {
   "cell_type": "code",
   "execution_count": 6,
   "id": "1af64f56-343c-40c0-99ba-fe564e4cf0d7",
   "metadata": {},
   "outputs": [],
   "source": [
    "from selenium import webdriver\n",
    "import time\n",
    "import os\n",
    "from selenium.webdriver.common.by import By\n",
    "from selenium.webdriver.support.ui import WebDriverWait\n",
    "from selenium.webdriver.support import expected_conditions as EC\n",
    "\n",
    "driver = webdriver.Firefox()\n",
    "url = 'file://' + os.getcwd() + '//textfields.html'\n",
    "driver.get(url)\n",
    "\n",
    "# enter name\n",
    "field1 = WebDriverWait(driver, 10).until(\n",
    "    EC.presence_of_element_located((By.ID, \"FirstName\"))\n",
    ")\n",
    "field1.send_keys('Indra')\n",
    "\n",
    "# enter password\n",
    "field2 = WebDriverWait(driver, 10).until(\n",
    "    EC.presence_of_element_located((By.ID, \"LastName\"))\n",
    ")\n",
    "field2.send_keys('Septianto')\n",
    "\n",
    "# close browser\n",
    "time.sleep(5)  # Time to observe the result before closing\n",
    "driver.quit()\n"
   ]
  },
  {
   "cell_type": "code",
   "execution_count": null,
   "id": "b1a34741-4a58-4457-bafb-ea49e6aa8605",
   "metadata": {},
   "outputs": [],
   "source": []
  }
 ],
 "metadata": {
  "kernelspec": {
   "display_name": "Python 3 (ipykernel)",
   "language": "python",
   "name": "python3"
  },
  "language_info": {
   "codemirror_mode": {
    "name": "ipython",
    "version": 3
   },
   "file_extension": ".py",
   "mimetype": "text/x-python",
   "name": "python",
   "nbconvert_exporter": "python",
   "pygments_lexer": "ipython3",
   "version": "3.12.7"
  }
 },
 "nbformat": 4,
 "nbformat_minor": 5
}
